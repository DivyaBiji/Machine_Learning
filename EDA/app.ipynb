{
 "cells": [
  {
   "cell_type": "code",
   "execution_count": 6,
   "id": "56be9416",
   "metadata": {},
   "outputs": [
    {
     "name": "stdout",
     "output_type": "stream",
     "text": [
      " * Serving Flask app \"__main__\" (lazy loading)\n",
      " * Environment: production\n",
      "\u001b[31m   WARNING: This is a development server. Do not use it in a production deployment.\u001b[0m\n",
      "\u001b[2m   Use a production WSGI server instead.\u001b[0m\n",
      " * Debug mode: on\n"
     ]
    },
    {
     "name": "stderr",
     "output_type": "stream",
     "text": [
      " * Restarting with watchdog (windowsapi)\n"
     ]
    },
    {
     "ename": "SystemExit",
     "evalue": "1",
     "output_type": "error",
     "traceback": [
      "An exception has occurred, use %tb to see the full traceback.\n",
      "\u001b[1;31mSystemExit\u001b[0m\u001b[1;31m:\u001b[0m 1\n"
     ]
    },
    {
     "name": "stderr",
     "output_type": "stream",
     "text": [
      "C:\\Users\\divya\\anaconda3\\lib\\site-packages\\IPython\\core\\interactiveshell.py:3377: UserWarning: To exit: use 'exit', 'quit', or Ctrl-D.\n",
      "  warn(\"To exit: use 'exit', 'quit', or Ctrl-D.\", stacklevel=1)\n"
     ]
    }
   ],
   "source": [
    "from flask import Flask, render_template\n",
    "import plotly.graph_objs as go\n",
    "import pandas as pd\n",
    "import json\n",
    "import plotly.utils\n",
    "\n",
    "app = Flask(__name__)\n",
    "\n",
    "# Load the dataset\n",
    "df = pd.read_csv('SampleSuperstore.csv')\n",
    "\n",
    "# Define the route for the dashboard\n",
    "@app.route('/')\n",
    "def dashboard():\n",
    "\n",
    "    # Create plot 1: Sales by Category\n",
    "    plot1 = go.Bar(x=df['Category'], y=df['Sales'])\n",
    "\n",
    "    # Create plot 2: Profit by Category\n",
    "    plot2 = go.Bar(x=df['Category'], y=df['Profit'])\n",
    "\n",
    "    # Create plot 3: Sales by Region\n",
    "    plot3 = go.Bar(x=df['Region'], y=df['Sales'])\n",
    "\n",
    "    # Create plot 4: Profit by Region\n",
    "    plot4 = go.Bar(x=df['Region'], y=df['Profit'])\n",
    "\n",
    "    # Create the layout for the dashboard\n",
    "    layout = go.Layout(\n",
    "        title='Superstore Dashboard',\n",
    "        barmode='group',\n",
    "        xaxis=dict(title='Category/Region'),\n",
    "        yaxis=dict(title='Sales/Profit')\n",
    "    )\n",
    "\n",
    "    # Combine the plots into a single figure\n",
    "    fig = go.Figure(data=[plot1, plot2, plot3, plot4], layout=layout)\n",
    "\n",
    "    # Convert the figure to JSON format\n",
    "    graphJSON = json.dumps(fig, cls=plotly.utils.PlotlyJSONEncoder)\n",
    "\n",
    "    # Prepare the data for the tables\n",
    "    city_data = df.groupby('City')['Profit'].sum().nlargest(10).reset_index().values.tolist()\n",
    "    product_data = df.groupby('Product Name').agg({'Sales': 'sum', 'Quantity': 'sum'}).nlargest(10, 'Sales').reset_index().values.tolist()\n",
    "\n",
    "    # Pass the data to the template\n",
    "    data = {'city_data': city_data, 'product_data': product_data}\n",
    "\n",
    "    # Render the dashboard template with the graph data and table data\n",
    "    return render_template('index.html', graphJSON=graphJSON, data=data)\n",
    "\n",
    "# Define the main function to run the app\n",
    "if __name__ == '__main__':\n",
    "    app.run(debug=True)\n"
   ]
  },
  {
   "cell_type": "code",
   "execution_count": 9,
   "id": "743fcfed",
   "metadata": {},
   "outputs": [
    {
     "name": "stdout",
     "output_type": "stream",
     "text": [
      " * Serving Flask app \"__main__\" (lazy loading)\n",
      " * Environment: production\n",
      "\u001b[31m   WARNING: This is a development server. Do not use it in a production deployment.\u001b[0m\n",
      "\u001b[2m   Use a production WSGI server instead.\u001b[0m\n",
      " * Debug mode: on\n"
     ]
    },
    {
     "name": "stderr",
     "output_type": "stream",
     "text": [
      " * Restarting with watchdog (windowsapi)\n"
     ]
    },
    {
     "ename": "SystemExit",
     "evalue": "1",
     "output_type": "error",
     "traceback": [
      "An exception has occurred, use %tb to see the full traceback.\n",
      "\u001b[1;31mSystemExit\u001b[0m\u001b[1;31m:\u001b[0m 1\n"
     ]
    }
   ],
   "source": [
    "from flask import Flask, jsonify\n",
    "\n",
    "app = Flask(__name__)\n",
    "\n",
    "@app.route('/')\n",
    "def index():\n",
    "    data = {\"name\": \"John\", \"age\": 30}\n",
    "    print(data)\n",
    "    return jsonify(data)\n",
    "\n",
    "if __name__ == '__main__':\n",
    "    app.run(debug=True)\n",
    "    \n",
    "if __name__ == '__main__':\n",
    "    app.run(debug=True, use_reloader=False)\n"
   ]
  },
  {
   "cell_type": "code",
   "execution_count": null,
   "id": "5469767a",
   "metadata": {},
   "outputs": [],
   "source": []
  }
 ],
 "metadata": {
  "kernelspec": {
   "display_name": "Python 3 (ipykernel)",
   "language": "python",
   "name": "python3"
  },
  "language_info": {
   "codemirror_mode": {
    "name": "ipython",
    "version": 3
   },
   "file_extension": ".py",
   "mimetype": "text/x-python",
   "name": "python",
   "nbconvert_exporter": "python",
   "pygments_lexer": "ipython3",
   "version": "3.9.12"
  }
 },
 "nbformat": 4,
 "nbformat_minor": 5
}
